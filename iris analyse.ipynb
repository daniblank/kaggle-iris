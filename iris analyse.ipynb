{
 "cells": [
  {
   "cell_type": "code",
   "execution_count": 1,
   "metadata": {},
   "outputs": [],
   "source": [
    "import sqlite3 as sql\n",
    "from pathlib import Path\n",
    "import numpy as np\n",
    "\n",
    "data_folder = Path(\"C:\\\\Users\\\\dan_b\\\\OneDrive\\\\Projekte\\\\kaggle-iris\")\n",
    "filepath = data_folder / \"database.sqlite\"\n",
    "conn  = sql.connect(filepath)\n",
    "cur = conn.cursor()\n",
    " "
   ]
  },
  {
   "cell_type": "code",
   "execution_count": 2,
   "metadata": {},
   "outputs": [
    {
     "name": "stdout",
     "output_type": "stream",
     "text": [
      "1 5.1 3.5 1.4 0.2 Iris-setosa\n",
      "2 4.9 3 1.4 0.2 Iris-setosa\n",
      "3 4.7 3.2 1.3 0.2 Iris-setosa\n",
      "4 4.6 3.1 1.5 0.2 Iris-setosa\n",
      "5 5 3.6 1.4 0.2 Iris-setosa\n",
      "6 5.4 3.9 1.7 0.4 Iris-setosa\n",
      "7 4.6 3.4 1.4 0.3 Iris-setosa\n",
      "8 5 3.4 1.5 0.2 Iris-setosa\n",
      "9 4.4 2.9 1.4 0.2 Iris-setosa\n",
      "10 4.9 3.1 1.5 0.1 Iris-setosa\n",
      "11 5.4 3.7 1.5 0.2 Iris-setosa\n",
      "12 4.8 3.4 1.6 0.2 Iris-setosa\n",
      "13 4.8 3 1.4 0.1 Iris-setosa\n",
      "14 4.3 3 1.1 0.1 Iris-setosa\n",
      "15 5.8 4 1.2 0.2 Iris-setosa\n",
      "16 5.7 4.4 1.5 0.4 Iris-setosa\n",
      "17 5.4 3.9 1.3 0.4 Iris-setosa\n",
      "18 5.1 3.5 1.4 0.3 Iris-setosa\n",
      "19 5.7 3.8 1.7 0.3 Iris-setosa\n",
      "20 5.1 3.8 1.5 0.3 Iris-setosa\n",
      "21 5.4 3.4 1.7 0.2 Iris-setosa\n",
      "22 5.1 3.7 1.5 0.4 Iris-setosa\n",
      "23 4.6 3.6 1 0.2 Iris-setosa\n",
      "24 5.1 3.3 1.7 0.5 Iris-setosa\n",
      "25 4.8 3.4 1.9 0.2 Iris-setosa\n",
      "26 5 3 1.6 0.2 Iris-setosa\n",
      "27 5 3.4 1.6 0.4 Iris-setosa\n",
      "28 5.2 3.5 1.5 0.2 Iris-setosa\n",
      "29 5.2 3.4 1.4 0.2 Iris-setosa\n",
      "30 4.7 3.2 1.6 0.2 Iris-setosa\n",
      "31 4.8 3.1 1.6 0.2 Iris-setosa\n",
      "32 5.4 3.4 1.5 0.4 Iris-setosa\n",
      "33 5.2 4.1 1.5 0.1 Iris-setosa\n",
      "34 5.5 4.2 1.4 0.2 Iris-setosa\n",
      "35 4.9 3.1 1.5 0.1 Iris-setosa\n",
      "36 5 3.2 1.2 0.2 Iris-setosa\n",
      "37 5.5 3.5 1.3 0.2 Iris-setosa\n",
      "38 4.9 3.1 1.5 0.1 Iris-setosa\n",
      "39 4.4 3 1.3 0.2 Iris-setosa\n",
      "40 5.1 3.4 1.5 0.2 Iris-setosa\n",
      "41 5 3.5 1.3 0.3 Iris-setosa\n",
      "42 4.5 2.3 1.3 0.3 Iris-setosa\n",
      "43 4.4 3.2 1.3 0.2 Iris-setosa\n",
      "44 5 3.5 1.6 0.6 Iris-setosa\n",
      "45 5.1 3.8 1.9 0.4 Iris-setosa\n",
      "46 4.8 3 1.4 0.3 Iris-setosa\n",
      "47 5.1 3.8 1.6 0.2 Iris-setosa\n",
      "48 4.6 3.2 1.4 0.2 Iris-setosa\n",
      "49 5.3 3.7 1.5 0.2 Iris-setosa\n",
      "50 5 3.3 1.4 0.2 Iris-setosa\n",
      "51 7 3.2 4.7 1.4 Iris-versicolor\n",
      "52 6.4 3.2 4.5 1.5 Iris-versicolor\n",
      "53 6.9 3.1 4.9 1.5 Iris-versicolor\n",
      "54 5.5 2.3 4 1.3 Iris-versicolor\n",
      "55 6.5 2.8 4.6 1.5 Iris-versicolor\n",
      "56 5.7 2.8 4.5 1.3 Iris-versicolor\n",
      "57 6.3 3.3 4.7 1.6 Iris-versicolor\n",
      "58 4.9 2.4 3.3 1 Iris-versicolor\n",
      "59 6.6 2.9 4.6 1.3 Iris-versicolor\n",
      "60 5.2 2.7 3.9 1.4 Iris-versicolor\n",
      "61 5 2 3.5 1 Iris-versicolor\n",
      "62 5.9 3 4.2 1.5 Iris-versicolor\n",
      "63 6 2.2 4 1 Iris-versicolor\n",
      "64 6.1 2.9 4.7 1.4 Iris-versicolor\n",
      "65 5.6 2.9 3.6 1.3 Iris-versicolor\n",
      "66 6.7 3.1 4.4 1.4 Iris-versicolor\n",
      "67 5.6 3 4.5 1.5 Iris-versicolor\n",
      "68 5.8 2.7 4.1 1 Iris-versicolor\n",
      "69 6.2 2.2 4.5 1.5 Iris-versicolor\n",
      "70 5.6 2.5 3.9 1.1 Iris-versicolor\n",
      "71 5.9 3.2 4.8 1.8 Iris-versicolor\n",
      "72 6.1 2.8 4 1.3 Iris-versicolor\n",
      "73 6.3 2.5 4.9 1.5 Iris-versicolor\n",
      "74 6.1 2.8 4.7 1.2 Iris-versicolor\n",
      "75 6.4 2.9 4.3 1.3 Iris-versicolor\n",
      "76 6.6 3 4.4 1.4 Iris-versicolor\n",
      "77 6.8 2.8 4.8 1.4 Iris-versicolor\n",
      "78 6.7 3 5 1.7 Iris-versicolor\n",
      "79 6 2.9 4.5 1.5 Iris-versicolor\n",
      "80 5.7 2.6 3.5 1 Iris-versicolor\n",
      "81 5.5 2.4 3.8 1.1 Iris-versicolor\n",
      "82 5.5 2.4 3.7 1 Iris-versicolor\n",
      "83 5.8 2.7 3.9 1.2 Iris-versicolor\n",
      "84 6 2.7 5.1 1.6 Iris-versicolor\n",
      "85 5.4 3 4.5 1.5 Iris-versicolor\n",
      "86 6 3.4 4.5 1.6 Iris-versicolor\n",
      "87 6.7 3.1 4.7 1.5 Iris-versicolor\n",
      "88 6.3 2.3 4.4 1.3 Iris-versicolor\n",
      "89 5.6 3 4.1 1.3 Iris-versicolor\n",
      "90 5.5 2.5 4 1.3 Iris-versicolor\n",
      "91 5.5 2.6 4.4 1.2 Iris-versicolor\n",
      "92 6.1 3 4.6 1.4 Iris-versicolor\n",
      "93 5.8 2.6 4 1.2 Iris-versicolor\n",
      "94 5 2.3 3.3 1 Iris-versicolor\n",
      "95 5.6 2.7 4.2 1.3 Iris-versicolor\n",
      "96 5.7 3 4.2 1.2 Iris-versicolor\n",
      "97 5.7 2.9 4.2 1.3 Iris-versicolor\n",
      "98 6.2 2.9 4.3 1.3 Iris-versicolor\n",
      "99 5.1 2.5 3 1.1 Iris-versicolor\n",
      "100 5.7 2.8 4.1 1.3 Iris-versicolor\n",
      "101 6.3 3.3 6 2.5 Iris-virginica\n",
      "102 5.8 2.7 5.1 1.9 Iris-virginica\n",
      "103 7.1 3 5.9 2.1 Iris-virginica\n",
      "104 6.3 2.9 5.6 1.8 Iris-virginica\n",
      "105 6.5 3 5.8 2.2 Iris-virginica\n",
      "106 7.6 3 6.6 2.1 Iris-virginica\n",
      "107 4.9 2.5 4.5 1.7 Iris-virginica\n",
      "108 7.3 2.9 6.3 1.8 Iris-virginica\n",
      "109 6.7 2.5 5.8 1.8 Iris-virginica\n",
      "110 7.2 3.6 6.1 2.5 Iris-virginica\n",
      "111 6.5 3.2 5.1 2 Iris-virginica\n",
      "112 6.4 2.7 5.3 1.9 Iris-virginica\n",
      "113 6.8 3 5.5 2.1 Iris-virginica\n",
      "114 5.7 2.5 5 2 Iris-virginica\n",
      "115 5.8 2.8 5.1 2.4 Iris-virginica\n",
      "116 6.4 3.2 5.3 2.3 Iris-virginica\n",
      "117 6.5 3 5.5 1.8 Iris-virginica\n",
      "118 7.7 3.8 6.7 2.2 Iris-virginica\n",
      "119 7.7 2.6 6.9 2.3 Iris-virginica\n",
      "120 6 2.2 5 1.5 Iris-virginica\n",
      "121 6.9 3.2 5.7 2.3 Iris-virginica\n",
      "122 5.6 2.8 4.9 2 Iris-virginica\n",
      "123 7.7 2.8 6.7 2 Iris-virginica\n",
      "124 6.3 2.7 4.9 1.8 Iris-virginica\n",
      "125 6.7 3.3 5.7 2.1 Iris-virginica\n",
      "126 7.2 3.2 6 1.8 Iris-virginica\n",
      "127 6.2 2.8 4.8 1.8 Iris-virginica\n",
      "128 6.1 3 4.9 1.8 Iris-virginica\n",
      "129 6.4 2.8 5.6 2.1 Iris-virginica\n",
      "130 7.2 3 5.8 1.6 Iris-virginica\n",
      "131 7.4 2.8 6.1 1.9 Iris-virginica\n",
      "132 7.9 3.8 6.4 2 Iris-virginica\n",
      "133 6.4 2.8 5.6 2.2 Iris-virginica\n",
      "134 6.3 2.8 5.1 1.5 Iris-virginica\n",
      "135 6.1 2.6 5.6 1.4 Iris-virginica\n",
      "136 7.7 3 6.1 2.3 Iris-virginica\n",
      "137 6.3 3.4 5.6 2.4 Iris-virginica\n",
      "138 6.4 3.1 5.5 1.8 Iris-virginica\n",
      "139 6 3 4.8 1.8 Iris-virginica\n",
      "140 6.9 3.1 5.4 2.1 Iris-virginica\n",
      "141 6.7 3.1 5.6 2.4 Iris-virginica\n",
      "142 6.9 3.1 5.1 2.3 Iris-virginica\n",
      "143 5.8 2.7 5.1 1.9 Iris-virginica\n",
      "144 6.8 3.2 5.9 2.3 Iris-virginica\n",
      "145 6.7 3.3 5.7 2.5 Iris-virginica\n",
      "146 6.7 3 5.2 2.3 Iris-virginica\n",
      "147 6.3 2.5 5 1.9 Iris-virginica\n",
      "148 6.5 3 5.2 2 Iris-virginica\n",
      "149 6.2 3.4 5.4 2.3 Iris-virginica\n",
      "150 5.9 3 5.1 1.8 Iris-virginica\n"
     ]
    }
   ],
   "source": [
    "query = '''\n",
    "SELECT Id,SepalLengthCm,SepalWidthCm,PetalLengthCm,PetalWidthCm,Species FROM iris'''\n",
    "sth = cur.execute(query)\n",
    "daten = np.empty((1,6))\n",
    "results = sth.fetchall()\n",
    "for Id,SepalLengthCm,SepalWidthCm,PetalLengthCm,PetalWidthCm,Species in results:\n",
    "    \n",
    "\tprint(Id,SepalLengthCm,SepalWidthCm,PetalLengthCm,PetalWidthCm,Species)"
   ]
  },
  {
   "cell_type": "code",
   "execution_count": 3,
   "metadata": {},
   "outputs": [
    {
     "name": "stdout",
     "output_type": "stream",
     "text": [
      "[[0. 0. 0. 0.]\n",
      " [0. 0. 0. 0.]\n",
      " [0. 0. 0. 0.]]\n"
     ]
    }
   ],
   "source": [
    "a=np.array(np.zeros((3,4)))\n",
    "print(a)"
   ]
  },
  {
   "cell_type": "code",
   "execution_count": 4,
   "metadata": {},
   "outputs": [
    {
     "name": "stdout",
     "output_type": "stream",
     "text": [
      "1 5.1 3.5 1.4 0.2 Iris-setosa\n",
      "2 4.9 3 1.4 0.2 Iris-setosa\n",
      "3 4.7 3.2 1.3 0.2 Iris-setosa\n",
      "4 4.6 3.1 1.5 0.2 Iris-setosa\n",
      "5 5 3.6 1.4 0.2 Iris-setosa\n",
      "6 5.4 3.9 1.7 0.4 Iris-setosa\n",
      "7 4.6 3.4 1.4 0.3 Iris-setosa\n",
      "8 5 3.4 1.5 0.2 Iris-setosa\n",
      "9 4.4 2.9 1.4 0.2 Iris-setosa\n",
      "10 4.9 3.1 1.5 0.1 Iris-setosa\n",
      "11 5.4 3.7 1.5 0.2 Iris-setosa\n",
      "12 4.8 3.4 1.6 0.2 Iris-setosa\n",
      "13 4.8 3 1.4 0.1 Iris-setosa\n",
      "14 4.3 3 1.1 0.1 Iris-setosa\n",
      "15 5.8 4 1.2 0.2 Iris-setosa\n",
      "16 5.7 4.4 1.5 0.4 Iris-setosa\n",
      "17 5.4 3.9 1.3 0.4 Iris-setosa\n",
      "18 5.1 3.5 1.4 0.3 Iris-setosa\n",
      "19 5.7 3.8 1.7 0.3 Iris-setosa\n",
      "20 5.1 3.8 1.5 0.3 Iris-setosa\n",
      "21 5.4 3.4 1.7 0.2 Iris-setosa\n",
      "22 5.1 3.7 1.5 0.4 Iris-setosa\n",
      "23 4.6 3.6 1 0.2 Iris-setosa\n",
      "24 5.1 3.3 1.7 0.5 Iris-setosa\n",
      "25 4.8 3.4 1.9 0.2 Iris-setosa\n",
      "26 5 3 1.6 0.2 Iris-setosa\n",
      "27 5 3.4 1.6 0.4 Iris-setosa\n",
      "28 5.2 3.5 1.5 0.2 Iris-setosa\n",
      "29 5.2 3.4 1.4 0.2 Iris-setosa\n",
      "30 4.7 3.2 1.6 0.2 Iris-setosa\n",
      "31 4.8 3.1 1.6 0.2 Iris-setosa\n",
      "32 5.4 3.4 1.5 0.4 Iris-setosa\n",
      "33 5.2 4.1 1.5 0.1 Iris-setosa\n",
      "34 5.5 4.2 1.4 0.2 Iris-setosa\n",
      "35 4.9 3.1 1.5 0.1 Iris-setosa\n",
      "36 5 3.2 1.2 0.2 Iris-setosa\n",
      "37 5.5 3.5 1.3 0.2 Iris-setosa\n",
      "38 4.9 3.1 1.5 0.1 Iris-setosa\n",
      "39 4.4 3 1.3 0.2 Iris-setosa\n",
      "40 5.1 3.4 1.5 0.2 Iris-setosa\n",
      "41 5 3.5 1.3 0.3 Iris-setosa\n",
      "42 4.5 2.3 1.3 0.3 Iris-setosa\n",
      "43 4.4 3.2 1.3 0.2 Iris-setosa\n",
      "44 5 3.5 1.6 0.6 Iris-setosa\n",
      "45 5.1 3.8 1.9 0.4 Iris-setosa\n",
      "46 4.8 3 1.4 0.3 Iris-setosa\n",
      "47 5.1 3.8 1.6 0.2 Iris-setosa\n",
      "48 4.6 3.2 1.4 0.2 Iris-setosa\n",
      "49 5.3 3.7 1.5 0.2 Iris-setosa\n",
      "50 5 3.3 1.4 0.2 Iris-setosa\n",
      "51 7 3.2 4.7 1.4 Iris-versicolor\n",
      "52 6.4 3.2 4.5 1.5 Iris-versicolor\n",
      "53 6.9 3.1 4.9 1.5 Iris-versicolor\n",
      "54 5.5 2.3 4 1.3 Iris-versicolor\n",
      "55 6.5 2.8 4.6 1.5 Iris-versicolor\n",
      "56 5.7 2.8 4.5 1.3 Iris-versicolor\n",
      "57 6.3 3.3 4.7 1.6 Iris-versicolor\n",
      "58 4.9 2.4 3.3 1 Iris-versicolor\n",
      "59 6.6 2.9 4.6 1.3 Iris-versicolor\n",
      "60 5.2 2.7 3.9 1.4 Iris-versicolor\n",
      "61 5 2 3.5 1 Iris-versicolor\n",
      "62 5.9 3 4.2 1.5 Iris-versicolor\n",
      "63 6 2.2 4 1 Iris-versicolor\n",
      "64 6.1 2.9 4.7 1.4 Iris-versicolor\n",
      "65 5.6 2.9 3.6 1.3 Iris-versicolor\n",
      "66 6.7 3.1 4.4 1.4 Iris-versicolor\n",
      "67 5.6 3 4.5 1.5 Iris-versicolor\n",
      "68 5.8 2.7 4.1 1 Iris-versicolor\n",
      "69 6.2 2.2 4.5 1.5 Iris-versicolor\n",
      "70 5.6 2.5 3.9 1.1 Iris-versicolor\n",
      "71 5.9 3.2 4.8 1.8 Iris-versicolor\n",
      "72 6.1 2.8 4 1.3 Iris-versicolor\n",
      "73 6.3 2.5 4.9 1.5 Iris-versicolor\n",
      "74 6.1 2.8 4.7 1.2 Iris-versicolor\n",
      "75 6.4 2.9 4.3 1.3 Iris-versicolor\n",
      "76 6.6 3 4.4 1.4 Iris-versicolor\n",
      "77 6.8 2.8 4.8 1.4 Iris-versicolor\n",
      "78 6.7 3 5 1.7 Iris-versicolor\n",
      "79 6 2.9 4.5 1.5 Iris-versicolor\n",
      "80 5.7 2.6 3.5 1 Iris-versicolor\n",
      "81 5.5 2.4 3.8 1.1 Iris-versicolor\n",
      "82 5.5 2.4 3.7 1 Iris-versicolor\n",
      "83 5.8 2.7 3.9 1.2 Iris-versicolor\n",
      "84 6 2.7 5.1 1.6 Iris-versicolor\n",
      "85 5.4 3 4.5 1.5 Iris-versicolor\n",
      "86 6 3.4 4.5 1.6 Iris-versicolor\n",
      "87 6.7 3.1 4.7 1.5 Iris-versicolor\n",
      "88 6.3 2.3 4.4 1.3 Iris-versicolor\n",
      "89 5.6 3 4.1 1.3 Iris-versicolor\n",
      "90 5.5 2.5 4 1.3 Iris-versicolor\n",
      "91 5.5 2.6 4.4 1.2 Iris-versicolor\n",
      "92 6.1 3 4.6 1.4 Iris-versicolor\n",
      "93 5.8 2.6 4 1.2 Iris-versicolor\n",
      "94 5 2.3 3.3 1 Iris-versicolor\n",
      "95 5.6 2.7 4.2 1.3 Iris-versicolor\n",
      "96 5.7 3 4.2 1.2 Iris-versicolor\n",
      "97 5.7 2.9 4.2 1.3 Iris-versicolor\n",
      "98 6.2 2.9 4.3 1.3 Iris-versicolor\n",
      "99 5.1 2.5 3 1.1 Iris-versicolor\n",
      "100 5.7 2.8 4.1 1.3 Iris-versicolor\n",
      "101 6.3 3.3 6 2.5 Iris-virginica\n",
      "102 5.8 2.7 5.1 1.9 Iris-virginica\n",
      "103 7.1 3 5.9 2.1 Iris-virginica\n",
      "104 6.3 2.9 5.6 1.8 Iris-virginica\n",
      "105 6.5 3 5.8 2.2 Iris-virginica\n",
      "106 7.6 3 6.6 2.1 Iris-virginica\n",
      "107 4.9 2.5 4.5 1.7 Iris-virginica\n",
      "108 7.3 2.9 6.3 1.8 Iris-virginica\n",
      "109 6.7 2.5 5.8 1.8 Iris-virginica\n",
      "110 7.2 3.6 6.1 2.5 Iris-virginica\n",
      "111 6.5 3.2 5.1 2 Iris-virginica\n",
      "112 6.4 2.7 5.3 1.9 Iris-virginica\n",
      "113 6.8 3 5.5 2.1 Iris-virginica\n",
      "114 5.7 2.5 5 2 Iris-virginica\n",
      "115 5.8 2.8 5.1 2.4 Iris-virginica\n",
      "116 6.4 3.2 5.3 2.3 Iris-virginica\n",
      "117 6.5 3 5.5 1.8 Iris-virginica\n",
      "118 7.7 3.8 6.7 2.2 Iris-virginica\n",
      "119 7.7 2.6 6.9 2.3 Iris-virginica\n",
      "120 6 2.2 5 1.5 Iris-virginica\n",
      "121 6.9 3.2 5.7 2.3 Iris-virginica\n",
      "122 5.6 2.8 4.9 2 Iris-virginica\n",
      "123 7.7 2.8 6.7 2 Iris-virginica\n",
      "124 6.3 2.7 4.9 1.8 Iris-virginica\n",
      "125 6.7 3.3 5.7 2.1 Iris-virginica\n",
      "126 7.2 3.2 6 1.8 Iris-virginica\n",
      "127 6.2 2.8 4.8 1.8 Iris-virginica\n",
      "128 6.1 3 4.9 1.8 Iris-virginica\n",
      "129 6.4 2.8 5.6 2.1 Iris-virginica\n",
      "130 7.2 3 5.8 1.6 Iris-virginica\n",
      "131 7.4 2.8 6.1 1.9 Iris-virginica\n",
      "132 7.9 3.8 6.4 2 Iris-virginica\n",
      "133 6.4 2.8 5.6 2.2 Iris-virginica\n",
      "134 6.3 2.8 5.1 1.5 Iris-virginica\n",
      "135 6.1 2.6 5.6 1.4 Iris-virginica\n",
      "136 7.7 3 6.1 2.3 Iris-virginica\n",
      "137 6.3 3.4 5.6 2.4 Iris-virginica\n",
      "138 6.4 3.1 5.5 1.8 Iris-virginica\n",
      "139 6 3 4.8 1.8 Iris-virginica\n",
      "140 6.9 3.1 5.4 2.1 Iris-virginica\n",
      "141 6.7 3.1 5.6 2.4 Iris-virginica\n",
      "142 6.9 3.1 5.1 2.3 Iris-virginica\n",
      "143 5.8 2.7 5.1 1.9 Iris-virginica\n",
      "144 6.8 3.2 5.9 2.3 Iris-virginica\n",
      "145 6.7 3.3 5.7 2.5 Iris-virginica\n",
      "146 6.7 3 5.2 2.3 Iris-virginica\n",
      "147 6.3 2.5 5 1.9 Iris-virginica\n",
      "148 6.5 3 5.2 2 Iris-virginica\n",
      "149 6.2 3.4 5.4 2.3 Iris-virginica\n",
      "150 5.9 3 5.1 1.8 Iris-virginica\n"
     ]
    }
   ],
   "source": [
    "query = '''\n",
    "SELECT Id,SepalLengthCm,SepalWidthCm,PetalLengthCm,PetalWidthCm,Species FROM iris'''\n",
    "sth = cur.execute(query)\n",
    "daten = np.empty((1,6))\n",
    "results = sth.fetchall()\n",
    "for Id,SepalLengthCm,SepalWidthCm,PetalLengthCm,PetalWidthCm,Species in results:\n",
    "    \n",
    "\tprint(Id,SepalLengthCm,SepalWidthCm,PetalLengthCm,PetalWidthCm,Species)"
   ]
  },
  {
   "cell_type": "code",
   "execution_count": 5,
   "metadata": {},
   "outputs": [
    {
     "name": "stdout",
     "output_type": "stream",
     "text": [
      "[[0.52110781 0.91901623 0.07107457 0.72749216]\n",
      " [0.27063131 0.89403931 0.52998603 0.90766415]\n",
      " [0.32901463 0.14289966 0.49668164 0.02922379]]\n"
     ]
    }
   ],
   "source": [
    "b=np.array(np.random.random((3,4)))\n",
    "print(b\n",
    "     )"
   ]
  },
  {
   "cell_type": "code",
   "execution_count": 6,
   "metadata": {},
   "outputs": [
    {
     "data": {
      "text/plain": [
       "array([[0.52110781, 0.91901623, 0.07107457, 0.72749216],\n",
       "       [0.27063131, 0.89403931, 0.52998603, 0.90766415],\n",
       "       [0.32901463, 0.14289966, 0.49668164, 0.02922379]])"
      ]
     },
     "execution_count": 6,
     "metadata": {},
     "output_type": "execute_result"
    }
   ],
   "source": [
    "a+b"
   ]
  },
  {
   "cell_type": "code",
   "execution_count": 7,
   "metadata": {},
   "outputs": [
    {
     "name": "stdout",
     "output_type": "stream",
     "text": [
      "[[0. 0. 0. 0.]\n",
      " [0. 0. 0. 0.]\n",
      " [0. 0. 0. 0.]]\n"
     ]
    }
   ],
   "source": [
    "a=a*np.random.random((3,4))\n",
    "print(a)"
   ]
  },
  {
   "cell_type": "code",
   "execution_count": 8,
   "metadata": {},
   "outputs": [
    {
     "data": {
      "text/plain": [
       "12"
      ]
     },
     "execution_count": 8,
     "metadata": {},
     "output_type": "execute_result"
    }
   ],
   "source": [
    "a.size"
   ]
  },
  {
   "cell_type": "code",
   "execution_count": 9,
   "metadata": {},
   "outputs": [
    {
     "data": {
      "text/plain": [
       "(3, 4)"
      ]
     },
     "execution_count": 9,
     "metadata": {},
     "output_type": "execute_result"
    }
   ],
   "source": [
    "a.shape"
   ]
  },
  {
   "cell_type": "code",
   "execution_count": 10,
   "metadata": {},
   "outputs": [
    {
     "data": {
      "text/plain": [
       "dtype('float64')"
      ]
     },
     "execution_count": 10,
     "metadata": {},
     "output_type": "execute_result"
    }
   ],
   "source": [
    "a.dtype"
   ]
  },
  {
   "cell_type": "code",
   "execution_count": 11,
   "metadata": {},
   "outputs": [
    {
     "data": {
      "text/plain": [
       "array([0, 1, 2, 3, 4, 5, 6, 7, 8, 9])"
      ]
     },
     "execution_count": 11,
     "metadata": {},
     "output_type": "execute_result"
    }
   ],
   "source": [
    "np.arange(10)"
   ]
  },
  {
   "cell_type": "code",
   "execution_count": 12,
   "metadata": {},
   "outputs": [
    {
     "data": {
      "text/plain": [
       "2"
      ]
     },
     "execution_count": 12,
     "metadata": {},
     "output_type": "execute_result"
    }
   ],
   "source": [
    "a.ndim"
   ]
  },
  {
   "cell_type": "code",
   "execution_count": 13,
   "metadata": {},
   "outputs": [
    {
     "name": "stdout",
     "output_type": "stream",
     "text": [
      "[[ 0  1  2  3]\n",
      " [ 4  5  6  7]\n",
      " [ 8  9 10 11]]\n"
     ]
    }
   ],
   "source": [
    "c=np.array(np.arange(12).reshape((3,4)))\n",
    "print(c)"
   ]
  },
  {
   "cell_type": "code",
   "execution_count": 14,
   "metadata": {},
   "outputs": [
    {
     "data": {
      "text/plain": [
       "array([ 2,  6, 10])"
      ]
     },
     "execution_count": 14,
     "metadata": {},
     "output_type": "execute_result"
    }
   ],
   "source": [
    "c[:,2]"
   ]
  },
  {
   "cell_type": "code",
   "execution_count": 15,
   "metadata": {},
   "outputs": [
    {
     "data": {
      "text/plain": [
       "array([ 8,  9, 10, 11])"
      ]
     },
     "execution_count": 15,
     "metadata": {},
     "output_type": "execute_result"
    }
   ],
   "source": [
    "c[2,:]"
   ]
  },
  {
   "cell_type": "code",
   "execution_count": 16,
   "metadata": {},
   "outputs": [
    {
     "name": "stdout",
     "output_type": "stream",
     "text": [
      "[[ 0  1  2  3]\n",
      " [ 8  9 10 11]\n",
      " [ 4  5  6  7]]\n"
     ]
    }
   ],
   "source": [
    "print(np.random.permutation(c))"
   ]
  },
  {
   "cell_type": "code",
   "execution_count": 17,
   "metadata": {},
   "outputs": [
    {
     "name": "stdout",
     "output_type": "stream",
     "text": [
      "[[ 8  9 10 11]\n",
      " [ 4  5  6  7]\n",
      " [ 0  1  2  3]]\n",
      "[[ 8  9 10 11]\n",
      " [ 4  5  6  7]\n",
      " [ 0  1  2  3]]\n",
      "[[ 4  5  6  7]\n",
      " [ 0  1  2  3]\n",
      " [ 8  9 10 11]]\n",
      "[[ 4  5  6  7]\n",
      " [ 0  1  2  3]\n",
      " [ 8  9 10 11]]\n",
      "[[ 8  9 10 11]\n",
      " [ 0  1  2  3]\n",
      " [ 4  5  6  7]]\n",
      "[[ 4  5  6  7]\n",
      " [ 8  9 10 11]\n",
      " [ 0  1  2  3]]\n",
      "[[ 8  9 10 11]\n",
      " [ 0  1  2  3]\n",
      " [ 4  5  6  7]]\n",
      "[[ 8  9 10 11]\n",
      " [ 0  1  2  3]\n",
      " [ 4  5  6  7]]\n",
      "[[ 0  1  2  3]\n",
      " [ 4  5  6  7]\n",
      " [ 8  9 10 11]]\n"
     ]
    }
   ],
   "source": [
    "for i in range(1,10):\n",
    "    print(np.random.permutation(c))"
   ]
  },
  {
   "cell_type": "code",
   "execution_count": 18,
   "metadata": {},
   "outputs": [
    {
     "name": "stdout",
     "output_type": "stream",
     "text": [
      "[ 0  9  8  2  4  5  1  6  3 10  7 11]\n",
      "[11  9  3  4  1 10  6  5  0  2  7  8]\n",
      "[ 0  9  5  1  8 10  7  6  4  3 11  2]\n",
      "[ 9  6  7  8  3  2 10  5  4  1  0 11]\n",
      "[ 5  7  0  3  9 11  1 10  2  6  4  8]\n",
      "[ 4 11  2  1 10  9  5  6  8  7  0  3]\n",
      "[ 0  2  7  9 10 11  1  5  6  3  4  8]\n",
      "[10  0  3  5  1  8  4  9  2  6  7 11]\n",
      "[ 2 10  1  7  0 11  6  5  4  3  8  9]\n"
     ]
    }
   ],
   "source": [
    "for i in range(1,10):\n",
    "    print(np.random.permutation(np.ravel(c)))"
   ]
  },
  {
   "cell_type": "code",
   "execution_count": null,
   "metadata": {},
   "outputs": [],
   "source": []
  },
  {
   "cell_type": "code",
   "execution_count": 19,
   "metadata": {},
   "outputs": [
    {
     "name": "stdout",
     "output_type": "stream",
     "text": [
      "[[ 9  8  2  6]\n",
      " [ 1  7 11  0]\n",
      " [ 5  4 10  3]]\n",
      "[[ 7 10  8  5]\n",
      " [ 0  9  3  1]\n",
      " [ 4 11  6  2]]\n",
      "[[11  5  8  9]\n",
      " [ 0  2  6  4]\n",
      " [ 7  1  3 10]]\n",
      "[[ 7 10  3  9]\n",
      " [ 2  4  1  5]\n",
      " [ 8  6 11  0]]\n",
      "[[ 1  6  4 11]\n",
      " [ 8 10  3  2]\n",
      " [ 9  5  0  7]]\n",
      "[[ 5  9  2  4]\n",
      " [ 7  6  3 11]\n",
      " [ 1  0  8 10]]\n",
      "[[ 2  0  4  7]\n",
      " [ 9  1  5  3]\n",
      " [10  8 11  6]]\n",
      "[[ 4  5  7  8]\n",
      " [10 11  6  2]\n",
      " [ 9  1  3  0]]\n",
      "[[ 5  9  3  0]\n",
      " [ 1  8  7  4]\n",
      " [ 6 11 10  2]]\n"
     ]
    }
   ],
   "source": [
    "for i in range(1,10):\n",
    "    print(np.random.permutation(np.ravel(c)).reshape(3,4))"
   ]
  },
  {
   "cell_type": "code",
   "execution_count": 20,
   "metadata": {},
   "outputs": [
    {
     "name": "stdout",
     "output_type": "stream",
     "text": [
      "[[0. 0. 0. 0.]\n",
      " [0. 0. 0. 0.]\n",
      " [0. 0. 0. 0.]]\n",
      "[[0.52110781 0.91901623 0.07107457 0.72749216]\n",
      " [0.27063131 0.89403931 0.52998603 0.90766415]\n",
      " [0.32901463 0.14289966 0.49668164 0.02922379]]\n",
      "[[ 0  1  2  3]\n",
      " [ 4  5  6  7]\n",
      " [ 8  9 10 11]]\n"
     ]
    }
   ],
   "source": [
    "print (a)\n",
    "print (b)\n",
    "print (c)"
   ]
  },
  {
   "cell_type": "code",
   "execution_count": 21,
   "metadata": {},
   "outputs": [
    {
     "name": "stdout",
     "output_type": "stream",
     "text": [
      "[0.         0.         0.         0.         0.         0.\n",
      " 0.         0.         0.         0.         0.         0.\n",
      " 0.52110781 0.91901623 0.07107457 0.72749216 0.27063131 0.89403931\n",
      " 0.52998603 0.90766415 0.32901463 0.14289966 0.49668164 0.02922379]\n"
     ]
    }
   ],
   "source": [
    "d=np.append(a, b)\n",
    "print(d)\n"
   ]
  },
  {
   "cell_type": "code",
   "execution_count": 38,
   "metadata": {},
   "outputs": [],
   "source": [
    "query = '''\n",
    "SELECT Id,SepalLengthCm,SepalWidthCm,PetalLengthCm,PetalWidthCm,Species FROM iris'''\n",
    "sth = cur.execute(query)\n",
    "daten = np.empty((0,0))\n",
    "results = sth.fetchall()\n",
    "for Id,SepalLengthCm,SepalWidthCm,PetalLengthCm,PetalWidthCm,Species in results:\n",
    "    daten = np.append(daten, (Id,SepalLengthCm,SepalWidthCm,PetalLengthCm,PetalWidthCm,Species))\n"
   ]
  },
  {
   "cell_type": "code",
   "execution_count": 39,
   "metadata": {},
   "outputs": [
    {
     "data": {
      "text/plain": [
       "(900,)"
      ]
     },
     "execution_count": 39,
     "metadata": {},
     "output_type": "execute_result"
    }
   ],
   "source": [
    "daten.shape"
   ]
  },
  {
   "cell_type": "code",
   "execution_count": 40,
   "metadata": {},
   "outputs": [
    {
     "data": {
      "text/plain": [
       "150.0"
      ]
     },
     "execution_count": 40,
     "metadata": {},
     "output_type": "execute_result"
    }
   ],
   "source": [
    "900 / 6"
   ]
  },
  {
   "cell_type": "code",
   "execution_count": 42,
   "metadata": {},
   "outputs": [],
   "source": [
    "daten=daten.reshape(150,6)"
   ]
  },
  {
   "cell_type": "code",
   "execution_count": 46,
   "metadata": {},
   "outputs": [
    {
     "data": {
      "text/plain": [
       "dtype('<U32')"
      ]
     },
     "execution_count": 46,
     "metadata": {},
     "output_type": "execute_result"
    }
   ],
   "source": [
    "daten.dtype"
   ]
  },
  {
   "cell_type": "code",
   "execution_count": 47,
   "metadata": {},
   "outputs": [
    {
     "data": {
      "text/plain": [
       "array(['1', '5.1', '3.5', '1.4', '0.2', 'Iris-setosa'], dtype='<U32')"
      ]
     },
     "execution_count": 47,
     "metadata": {},
     "output_type": "execute_result"
    }
   ],
   "source": [
    "daten[0,:]"
   ]
  },
  {
   "cell_type": "code",
   "execution_count": 48,
   "metadata": {},
   "outputs": [],
   "source": [
    "import pandas as pd\n"
   ]
  },
  {
   "cell_type": "code",
   "execution_count": 53,
   "metadata": {},
   "outputs": [],
   "source": [
    "columns = ['Id','SepalLengthCm','SepalWidthCm','PetalLengthCm','PetalWidthCm','Species']"
   ]
  },
  {
   "cell_type": "code",
   "execution_count": 61,
   "metadata": {},
   "outputs": [
    {
     "data": {
      "text/html": [
       "<div>\n",
       "<style scoped>\n",
       "    .dataframe tbody tr th:only-of-type {\n",
       "        vertical-align: middle;\n",
       "    }\n",
       "\n",
       "    .dataframe tbody tr th {\n",
       "        vertical-align: top;\n",
       "    }\n",
       "\n",
       "    .dataframe thead th {\n",
       "        text-align: right;\n",
       "    }\n",
       "</style>\n",
       "<table border=\"1\" class=\"dataframe\">\n",
       "  <thead>\n",
       "    <tr style=\"text-align: right;\">\n",
       "      <th></th>\n",
       "      <th>Id</th>\n",
       "      <th>SepalLengthCm</th>\n",
       "      <th>SepalWidthCm</th>\n",
       "      <th>PetalLengthCm</th>\n",
       "      <th>PetalWidthCm</th>\n",
       "      <th>Species</th>\n",
       "    </tr>\n",
       "  </thead>\n",
       "  <tbody>\n",
       "    <tr>\n",
       "      <th>count</th>\n",
       "      <td>150</td>\n",
       "      <td>150</td>\n",
       "      <td>150</td>\n",
       "      <td>150</td>\n",
       "      <td>150</td>\n",
       "      <td>150</td>\n",
       "    </tr>\n",
       "    <tr>\n",
       "      <th>unique</th>\n",
       "      <td>150</td>\n",
       "      <td>35</td>\n",
       "      <td>23</td>\n",
       "      <td>43</td>\n",
       "      <td>22</td>\n",
       "      <td>3</td>\n",
       "    </tr>\n",
       "    <tr>\n",
       "      <th>top</th>\n",
       "      <td>15</td>\n",
       "      <td>5</td>\n",
       "      <td>3</td>\n",
       "      <td>1.5</td>\n",
       "      <td>0.2</td>\n",
       "      <td>Iris-setosa</td>\n",
       "    </tr>\n",
       "    <tr>\n",
       "      <th>freq</th>\n",
       "      <td>1</td>\n",
       "      <td>10</td>\n",
       "      <td>26</td>\n",
       "      <td>14</td>\n",
       "      <td>28</td>\n",
       "      <td>50</td>\n",
       "    </tr>\n",
       "  </tbody>\n",
       "</table>\n",
       "</div>"
      ],
      "text/plain": [
       "         Id SepalLengthCm SepalWidthCm PetalLengthCm PetalWidthCm      Species\n",
       "count   150           150          150           150          150          150\n",
       "unique  150            35           23            43           22            3\n",
       "top      15             5            3           1.5          0.2  Iris-setosa\n",
       "freq      1            10           26            14           28           50"
      ]
     },
     "execution_count": 61,
     "metadata": {},
     "output_type": "execute_result"
    }
   ],
   "source": [
    "df = pd.DataFrame(daten, index=daten[:,0], columns=columns)\n",
    "df.describe(percentiles=[.25, .5, .75])"
   ]
  },
  {
   "cell_type": "code",
   "execution_count": 62,
   "metadata": {},
   "outputs": [
    {
     "data": {
      "text/html": [
       "<div>\n",
       "<style scoped>\n",
       "    .dataframe tbody tr th:only-of-type {\n",
       "        vertical-align: middle;\n",
       "    }\n",
       "\n",
       "    .dataframe tbody tr th {\n",
       "        vertical-align: top;\n",
       "    }\n",
       "\n",
       "    .dataframe thead th {\n",
       "        text-align: right;\n",
       "    }\n",
       "</style>\n",
       "<table border=\"1\" class=\"dataframe\">\n",
       "  <thead>\n",
       "    <tr style=\"text-align: right;\">\n",
       "      <th></th>\n",
       "      <th>Id</th>\n",
       "      <th>SepalLengthCm</th>\n",
       "      <th>SepalWidthCm</th>\n",
       "      <th>PetalLengthCm</th>\n",
       "      <th>PetalWidthCm</th>\n",
       "      <th>Species</th>\n",
       "    </tr>\n",
       "  </thead>\n",
       "  <tbody>\n",
       "    <tr>\n",
       "      <th>1</th>\n",
       "      <td>1</td>\n",
       "      <td>5.1</td>\n",
       "      <td>3.5</td>\n",
       "      <td>1.4</td>\n",
       "      <td>0.2</td>\n",
       "      <td>Iris-setosa</td>\n",
       "    </tr>\n",
       "    <tr>\n",
       "      <th>2</th>\n",
       "      <td>2</td>\n",
       "      <td>4.9</td>\n",
       "      <td>3</td>\n",
       "      <td>1.4</td>\n",
       "      <td>0.2</td>\n",
       "      <td>Iris-setosa</td>\n",
       "    </tr>\n",
       "    <tr>\n",
       "      <th>3</th>\n",
       "      <td>3</td>\n",
       "      <td>4.7</td>\n",
       "      <td>3.2</td>\n",
       "      <td>1.3</td>\n",
       "      <td>0.2</td>\n",
       "      <td>Iris-setosa</td>\n",
       "    </tr>\n",
       "    <tr>\n",
       "      <th>4</th>\n",
       "      <td>4</td>\n",
       "      <td>4.6</td>\n",
       "      <td>3.1</td>\n",
       "      <td>1.5</td>\n",
       "      <td>0.2</td>\n",
       "      <td>Iris-setosa</td>\n",
       "    </tr>\n",
       "    <tr>\n",
       "      <th>5</th>\n",
       "      <td>5</td>\n",
       "      <td>5</td>\n",
       "      <td>3.6</td>\n",
       "      <td>1.4</td>\n",
       "      <td>0.2</td>\n",
       "      <td>Iris-setosa</td>\n",
       "    </tr>\n",
       "    <tr>\n",
       "      <th>...</th>\n",
       "      <td>...</td>\n",
       "      <td>...</td>\n",
       "      <td>...</td>\n",
       "      <td>...</td>\n",
       "      <td>...</td>\n",
       "      <td>...</td>\n",
       "    </tr>\n",
       "    <tr>\n",
       "      <th>146</th>\n",
       "      <td>146</td>\n",
       "      <td>6.7</td>\n",
       "      <td>3</td>\n",
       "      <td>5.2</td>\n",
       "      <td>2.3</td>\n",
       "      <td>Iris-virginica</td>\n",
       "    </tr>\n",
       "    <tr>\n",
       "      <th>147</th>\n",
       "      <td>147</td>\n",
       "      <td>6.3</td>\n",
       "      <td>2.5</td>\n",
       "      <td>5</td>\n",
       "      <td>1.9</td>\n",
       "      <td>Iris-virginica</td>\n",
       "    </tr>\n",
       "    <tr>\n",
       "      <th>148</th>\n",
       "      <td>148</td>\n",
       "      <td>6.5</td>\n",
       "      <td>3</td>\n",
       "      <td>5.2</td>\n",
       "      <td>2</td>\n",
       "      <td>Iris-virginica</td>\n",
       "    </tr>\n",
       "    <tr>\n",
       "      <th>149</th>\n",
       "      <td>149</td>\n",
       "      <td>6.2</td>\n",
       "      <td>3.4</td>\n",
       "      <td>5.4</td>\n",
       "      <td>2.3</td>\n",
       "      <td>Iris-virginica</td>\n",
       "    </tr>\n",
       "    <tr>\n",
       "      <th>150</th>\n",
       "      <td>150</td>\n",
       "      <td>5.9</td>\n",
       "      <td>3</td>\n",
       "      <td>5.1</td>\n",
       "      <td>1.8</td>\n",
       "      <td>Iris-virginica</td>\n",
       "    </tr>\n",
       "  </tbody>\n",
       "</table>\n",
       "<p>150 rows × 6 columns</p>\n",
       "</div>"
      ],
      "text/plain": [
       "      Id SepalLengthCm SepalWidthCm PetalLengthCm PetalWidthCm         Species\n",
       "1      1           5.1          3.5           1.4          0.2     Iris-setosa\n",
       "2      2           4.9            3           1.4          0.2     Iris-setosa\n",
       "3      3           4.7          3.2           1.3          0.2     Iris-setosa\n",
       "4      4           4.6          3.1           1.5          0.2     Iris-setosa\n",
       "5      5             5          3.6           1.4          0.2     Iris-setosa\n",
       "..   ...           ...          ...           ...          ...             ...\n",
       "146  146           6.7            3           5.2          2.3  Iris-virginica\n",
       "147  147           6.3          2.5             5          1.9  Iris-virginica\n",
       "148  148           6.5            3           5.2            2  Iris-virginica\n",
       "149  149           6.2          3.4           5.4          2.3  Iris-virginica\n",
       "150  150           5.9            3           5.1          1.8  Iris-virginica\n",
       "\n",
       "[150 rows x 6 columns]"
      ]
     },
     "execution_count": 62,
     "metadata": {},
     "output_type": "execute_result"
    }
   ],
   "source": [
    "df"
   ]
  },
  {
   "cell_type": "code",
   "execution_count": 76,
   "metadata": {},
   "outputs": [],
   "source": [
    "import sqlite3\n",
    "conn = sqlite3.connect(\"database.sqlite\")\n",
    "df2 = pd.read_sql_query(\"SELECT Id,SepalLengthCm,SepalWidthCm,PetalLengthCm,PetalWidthCm,Species FROM iris\", con = conn)"
   ]
  },
  {
   "cell_type": "code",
   "execution_count": 77,
   "metadata": {},
   "outputs": [
    {
     "data": {
      "text/html": [
       "<div>\n",
       "<style scoped>\n",
       "    .dataframe tbody tr th:only-of-type {\n",
       "        vertical-align: middle;\n",
       "    }\n",
       "\n",
       "    .dataframe tbody tr th {\n",
       "        vertical-align: top;\n",
       "    }\n",
       "\n",
       "    .dataframe thead th {\n",
       "        text-align: right;\n",
       "    }\n",
       "</style>\n",
       "<table border=\"1\" class=\"dataframe\">\n",
       "  <thead>\n",
       "    <tr style=\"text-align: right;\">\n",
       "      <th></th>\n",
       "      <th>Id</th>\n",
       "      <th>SepalLengthCm</th>\n",
       "      <th>SepalWidthCm</th>\n",
       "      <th>PetalLengthCm</th>\n",
       "      <th>PetalWidthCm</th>\n",
       "      <th>Species</th>\n",
       "    </tr>\n",
       "  </thead>\n",
       "  <tbody>\n",
       "    <tr>\n",
       "      <th>0</th>\n",
       "      <td>1</td>\n",
       "      <td>5.1</td>\n",
       "      <td>3.5</td>\n",
       "      <td>1.4</td>\n",
       "      <td>0.2</td>\n",
       "      <td>Iris-setosa</td>\n",
       "    </tr>\n",
       "    <tr>\n",
       "      <th>1</th>\n",
       "      <td>2</td>\n",
       "      <td>4.9</td>\n",
       "      <td>3.0</td>\n",
       "      <td>1.4</td>\n",
       "      <td>0.2</td>\n",
       "      <td>Iris-setosa</td>\n",
       "    </tr>\n",
       "    <tr>\n",
       "      <th>2</th>\n",
       "      <td>3</td>\n",
       "      <td>4.7</td>\n",
       "      <td>3.2</td>\n",
       "      <td>1.3</td>\n",
       "      <td>0.2</td>\n",
       "      <td>Iris-setosa</td>\n",
       "    </tr>\n",
       "    <tr>\n",
       "      <th>3</th>\n",
       "      <td>4</td>\n",
       "      <td>4.6</td>\n",
       "      <td>3.1</td>\n",
       "      <td>1.5</td>\n",
       "      <td>0.2</td>\n",
       "      <td>Iris-setosa</td>\n",
       "    </tr>\n",
       "    <tr>\n",
       "      <th>4</th>\n",
       "      <td>5</td>\n",
       "      <td>5.0</td>\n",
       "      <td>3.6</td>\n",
       "      <td>1.4</td>\n",
       "      <td>0.2</td>\n",
       "      <td>Iris-setosa</td>\n",
       "    </tr>\n",
       "    <tr>\n",
       "      <th>...</th>\n",
       "      <td>...</td>\n",
       "      <td>...</td>\n",
       "      <td>...</td>\n",
       "      <td>...</td>\n",
       "      <td>...</td>\n",
       "      <td>...</td>\n",
       "    </tr>\n",
       "    <tr>\n",
       "      <th>145</th>\n",
       "      <td>146</td>\n",
       "      <td>6.7</td>\n",
       "      <td>3.0</td>\n",
       "      <td>5.2</td>\n",
       "      <td>2.3</td>\n",
       "      <td>Iris-virginica</td>\n",
       "    </tr>\n",
       "    <tr>\n",
       "      <th>146</th>\n",
       "      <td>147</td>\n",
       "      <td>6.3</td>\n",
       "      <td>2.5</td>\n",
       "      <td>5.0</td>\n",
       "      <td>1.9</td>\n",
       "      <td>Iris-virginica</td>\n",
       "    </tr>\n",
       "    <tr>\n",
       "      <th>147</th>\n",
       "      <td>148</td>\n",
       "      <td>6.5</td>\n",
       "      <td>3.0</td>\n",
       "      <td>5.2</td>\n",
       "      <td>2.0</td>\n",
       "      <td>Iris-virginica</td>\n",
       "    </tr>\n",
       "    <tr>\n",
       "      <th>148</th>\n",
       "      <td>149</td>\n",
       "      <td>6.2</td>\n",
       "      <td>3.4</td>\n",
       "      <td>5.4</td>\n",
       "      <td>2.3</td>\n",
       "      <td>Iris-virginica</td>\n",
       "    </tr>\n",
       "    <tr>\n",
       "      <th>149</th>\n",
       "      <td>150</td>\n",
       "      <td>5.9</td>\n",
       "      <td>3.0</td>\n",
       "      <td>5.1</td>\n",
       "      <td>1.8</td>\n",
       "      <td>Iris-virginica</td>\n",
       "    </tr>\n",
       "  </tbody>\n",
       "</table>\n",
       "<p>150 rows × 6 columns</p>\n",
       "</div>"
      ],
      "text/plain": [
       "      Id  SepalLengthCm  SepalWidthCm  PetalLengthCm  PetalWidthCm  \\\n",
       "0      1            5.1           3.5            1.4           0.2   \n",
       "1      2            4.9           3.0            1.4           0.2   \n",
       "2      3            4.7           3.2            1.3           0.2   \n",
       "3      4            4.6           3.1            1.5           0.2   \n",
       "4      5            5.0           3.6            1.4           0.2   \n",
       "..   ...            ...           ...            ...           ...   \n",
       "145  146            6.7           3.0            5.2           2.3   \n",
       "146  147            6.3           2.5            5.0           1.9   \n",
       "147  148            6.5           3.0            5.2           2.0   \n",
       "148  149            6.2           3.4            5.4           2.3   \n",
       "149  150            5.9           3.0            5.1           1.8   \n",
       "\n",
       "            Species  \n",
       "0       Iris-setosa  \n",
       "1       Iris-setosa  \n",
       "2       Iris-setosa  \n",
       "3       Iris-setosa  \n",
       "4       Iris-setosa  \n",
       "..              ...  \n",
       "145  Iris-virginica  \n",
       "146  Iris-virginica  \n",
       "147  Iris-virginica  \n",
       "148  Iris-virginica  \n",
       "149  Iris-virginica  \n",
       "\n",
       "[150 rows x 6 columns]"
      ]
     },
     "execution_count": 77,
     "metadata": {},
     "output_type": "execute_result"
    }
   ],
   "source": [
    "df2"
   ]
  }
 ],
 "metadata": {
  "kernelspec": {
   "display_name": "Python 3",
   "language": "python",
   "name": "python3"
  },
  "language_info": {
   "codemirror_mode": {
    "name": "ipython",
    "version": 3
   },
   "file_extension": ".py",
   "mimetype": "text/x-python",
   "name": "python",
   "nbconvert_exporter": "python",
   "pygments_lexer": "ipython3",
   "version": "3.7.4"
  }
 },
 "nbformat": 4,
 "nbformat_minor": 4
}
