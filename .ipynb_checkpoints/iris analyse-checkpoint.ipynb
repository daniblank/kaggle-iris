{
 "cells": [
  {
   "cell_type": "code",
   "execution_count": 6,
   "metadata": {},
   "outputs": [],
   "source": [
    "import sqlite3 as sql\n",
    "from pathlib import Path\n",
    "import numpy as np\n",
    "\n",
    "data_folder = Path(\"C:\\\\Users\\\\dan_b\\\\OneDrive\\\\Projekte\\\\kaggle-iris\")\n",
    "filepath = data_folder / \"database.sqlite\"\n",
    "conn  = sql.connect(filepath)\n",
    "cur = conn.cursor()\n",
    " "
   ]
  },
  {
   "cell_type": "code",
   "execution_count": 5,
   "metadata": {},
   "outputs": [
    {
     "name": "stdout",
     "output_type": "stream",
     "text": [
      "1 5.1 3.5 1.4 0.2 Iris-setosa\n",
      "2 4.9 3 1.4 0.2 Iris-setosa\n",
      "3 4.7 3.2 1.3 0.2 Iris-setosa\n",
      "4 4.6 3.1 1.5 0.2 Iris-setosa\n",
      "5 5 3.6 1.4 0.2 Iris-setosa\n",
      "6 5.4 3.9 1.7 0.4 Iris-setosa\n",
      "7 4.6 3.4 1.4 0.3 Iris-setosa\n",
      "8 5 3.4 1.5 0.2 Iris-setosa\n",
      "9 4.4 2.9 1.4 0.2 Iris-setosa\n",
      "10 4.9 3.1 1.5 0.1 Iris-setosa\n",
      "11 5.4 3.7 1.5 0.2 Iris-setosa\n",
      "12 4.8 3.4 1.6 0.2 Iris-setosa\n",
      "13 4.8 3 1.4 0.1 Iris-setosa\n",
      "14 4.3 3 1.1 0.1 Iris-setosa\n",
      "15 5.8 4 1.2 0.2 Iris-setosa\n",
      "16 5.7 4.4 1.5 0.4 Iris-setosa\n",
      "17 5.4 3.9 1.3 0.4 Iris-setosa\n",
      "18 5.1 3.5 1.4 0.3 Iris-setosa\n",
      "19 5.7 3.8 1.7 0.3 Iris-setosa\n",
      "20 5.1 3.8 1.5 0.3 Iris-setosa\n",
      "21 5.4 3.4 1.7 0.2 Iris-setosa\n",
      "22 5.1 3.7 1.5 0.4 Iris-setosa\n",
      "23 4.6 3.6 1 0.2 Iris-setosa\n",
      "24 5.1 3.3 1.7 0.5 Iris-setosa\n",
      "25 4.8 3.4 1.9 0.2 Iris-setosa\n",
      "26 5 3 1.6 0.2 Iris-setosa\n",
      "27 5 3.4 1.6 0.4 Iris-setosa\n",
      "28 5.2 3.5 1.5 0.2 Iris-setosa\n",
      "29 5.2 3.4 1.4 0.2 Iris-setosa\n",
      "30 4.7 3.2 1.6 0.2 Iris-setosa\n",
      "31 4.8 3.1 1.6 0.2 Iris-setosa\n",
      "32 5.4 3.4 1.5 0.4 Iris-setosa\n",
      "33 5.2 4.1 1.5 0.1 Iris-setosa\n",
      "34 5.5 4.2 1.4 0.2 Iris-setosa\n",
      "35 4.9 3.1 1.5 0.1 Iris-setosa\n",
      "36 5 3.2 1.2 0.2 Iris-setosa\n",
      "37 5.5 3.5 1.3 0.2 Iris-setosa\n",
      "38 4.9 3.1 1.5 0.1 Iris-setosa\n",
      "39 4.4 3 1.3 0.2 Iris-setosa\n",
      "40 5.1 3.4 1.5 0.2 Iris-setosa\n",
      "41 5 3.5 1.3 0.3 Iris-setosa\n",
      "42 4.5 2.3 1.3 0.3 Iris-setosa\n",
      "43 4.4 3.2 1.3 0.2 Iris-setosa\n",
      "44 5 3.5 1.6 0.6 Iris-setosa\n",
      "45 5.1 3.8 1.9 0.4 Iris-setosa\n",
      "46 4.8 3 1.4 0.3 Iris-setosa\n",
      "47 5.1 3.8 1.6 0.2 Iris-setosa\n",
      "48 4.6 3.2 1.4 0.2 Iris-setosa\n",
      "49 5.3 3.7 1.5 0.2 Iris-setosa\n",
      "50 5 3.3 1.4 0.2 Iris-setosa\n",
      "51 7 3.2 4.7 1.4 Iris-versicolor\n",
      "52 6.4 3.2 4.5 1.5 Iris-versicolor\n",
      "53 6.9 3.1 4.9 1.5 Iris-versicolor\n",
      "54 5.5 2.3 4 1.3 Iris-versicolor\n",
      "55 6.5 2.8 4.6 1.5 Iris-versicolor\n",
      "56 5.7 2.8 4.5 1.3 Iris-versicolor\n",
      "57 6.3 3.3 4.7 1.6 Iris-versicolor\n",
      "58 4.9 2.4 3.3 1 Iris-versicolor\n",
      "59 6.6 2.9 4.6 1.3 Iris-versicolor\n",
      "60 5.2 2.7 3.9 1.4 Iris-versicolor\n",
      "61 5 2 3.5 1 Iris-versicolor\n",
      "62 5.9 3 4.2 1.5 Iris-versicolor\n",
      "63 6 2.2 4 1 Iris-versicolor\n",
      "64 6.1 2.9 4.7 1.4 Iris-versicolor\n",
      "65 5.6 2.9 3.6 1.3 Iris-versicolor\n",
      "66 6.7 3.1 4.4 1.4 Iris-versicolor\n",
      "67 5.6 3 4.5 1.5 Iris-versicolor\n",
      "68 5.8 2.7 4.1 1 Iris-versicolor\n",
      "69 6.2 2.2 4.5 1.5 Iris-versicolor\n",
      "70 5.6 2.5 3.9 1.1 Iris-versicolor\n",
      "71 5.9 3.2 4.8 1.8 Iris-versicolor\n",
      "72 6.1 2.8 4 1.3 Iris-versicolor\n",
      "73 6.3 2.5 4.9 1.5 Iris-versicolor\n",
      "74 6.1 2.8 4.7 1.2 Iris-versicolor\n",
      "75 6.4 2.9 4.3 1.3 Iris-versicolor\n",
      "76 6.6 3 4.4 1.4 Iris-versicolor\n",
      "77 6.8 2.8 4.8 1.4 Iris-versicolor\n",
      "78 6.7 3 5 1.7 Iris-versicolor\n",
      "79 6 2.9 4.5 1.5 Iris-versicolor\n",
      "80 5.7 2.6 3.5 1 Iris-versicolor\n",
      "81 5.5 2.4 3.8 1.1 Iris-versicolor\n",
      "82 5.5 2.4 3.7 1 Iris-versicolor\n",
      "83 5.8 2.7 3.9 1.2 Iris-versicolor\n",
      "84 6 2.7 5.1 1.6 Iris-versicolor\n",
      "85 5.4 3 4.5 1.5 Iris-versicolor\n",
      "86 6 3.4 4.5 1.6 Iris-versicolor\n",
      "87 6.7 3.1 4.7 1.5 Iris-versicolor\n",
      "88 6.3 2.3 4.4 1.3 Iris-versicolor\n",
      "89 5.6 3 4.1 1.3 Iris-versicolor\n",
      "90 5.5 2.5 4 1.3 Iris-versicolor\n",
      "91 5.5 2.6 4.4 1.2 Iris-versicolor\n",
      "92 6.1 3 4.6 1.4 Iris-versicolor\n",
      "93 5.8 2.6 4 1.2 Iris-versicolor\n",
      "94 5 2.3 3.3 1 Iris-versicolor\n",
      "95 5.6 2.7 4.2 1.3 Iris-versicolor\n",
      "96 5.7 3 4.2 1.2 Iris-versicolor\n",
      "97 5.7 2.9 4.2 1.3 Iris-versicolor\n",
      "98 6.2 2.9 4.3 1.3 Iris-versicolor\n",
      "99 5.1 2.5 3 1.1 Iris-versicolor\n",
      "100 5.7 2.8 4.1 1.3 Iris-versicolor\n",
      "101 6.3 3.3 6 2.5 Iris-virginica\n",
      "102 5.8 2.7 5.1 1.9 Iris-virginica\n",
      "103 7.1 3 5.9 2.1 Iris-virginica\n",
      "104 6.3 2.9 5.6 1.8 Iris-virginica\n",
      "105 6.5 3 5.8 2.2 Iris-virginica\n",
      "106 7.6 3 6.6 2.1 Iris-virginica\n",
      "107 4.9 2.5 4.5 1.7 Iris-virginica\n",
      "108 7.3 2.9 6.3 1.8 Iris-virginica\n",
      "109 6.7 2.5 5.8 1.8 Iris-virginica\n",
      "110 7.2 3.6 6.1 2.5 Iris-virginica\n",
      "111 6.5 3.2 5.1 2 Iris-virginica\n",
      "112 6.4 2.7 5.3 1.9 Iris-virginica\n",
      "113 6.8 3 5.5 2.1 Iris-virginica\n",
      "114 5.7 2.5 5 2 Iris-virginica\n",
      "115 5.8 2.8 5.1 2.4 Iris-virginica\n",
      "116 6.4 3.2 5.3 2.3 Iris-virginica\n",
      "117 6.5 3 5.5 1.8 Iris-virginica\n",
      "118 7.7 3.8 6.7 2.2 Iris-virginica\n",
      "119 7.7 2.6 6.9 2.3 Iris-virginica\n",
      "120 6 2.2 5 1.5 Iris-virginica\n",
      "121 6.9 3.2 5.7 2.3 Iris-virginica\n",
      "122 5.6 2.8 4.9 2 Iris-virginica\n",
      "123 7.7 2.8 6.7 2 Iris-virginica\n",
      "124 6.3 2.7 4.9 1.8 Iris-virginica\n",
      "125 6.7 3.3 5.7 2.1 Iris-virginica\n",
      "126 7.2 3.2 6 1.8 Iris-virginica\n",
      "127 6.2 2.8 4.8 1.8 Iris-virginica\n",
      "128 6.1 3 4.9 1.8 Iris-virginica\n",
      "129 6.4 2.8 5.6 2.1 Iris-virginica\n",
      "130 7.2 3 5.8 1.6 Iris-virginica\n",
      "131 7.4 2.8 6.1 1.9 Iris-virginica\n",
      "132 7.9 3.8 6.4 2 Iris-virginica\n",
      "133 6.4 2.8 5.6 2.2 Iris-virginica\n",
      "134 6.3 2.8 5.1 1.5 Iris-virginica\n",
      "135 6.1 2.6 5.6 1.4 Iris-virginica\n",
      "136 7.7 3 6.1 2.3 Iris-virginica\n",
      "137 6.3 3.4 5.6 2.4 Iris-virginica\n",
      "138 6.4 3.1 5.5 1.8 Iris-virginica\n",
      "139 6 3 4.8 1.8 Iris-virginica\n",
      "140 6.9 3.1 5.4 2.1 Iris-virginica\n",
      "141 6.7 3.1 5.6 2.4 Iris-virginica\n",
      "142 6.9 3.1 5.1 2.3 Iris-virginica\n",
      "143 5.8 2.7 5.1 1.9 Iris-virginica\n",
      "144 6.8 3.2 5.9 2.3 Iris-virginica\n",
      "145 6.7 3.3 5.7 2.5 Iris-virginica\n",
      "146 6.7 3 5.2 2.3 Iris-virginica\n",
      "147 6.3 2.5 5 1.9 Iris-virginica\n",
      "148 6.5 3 5.2 2 Iris-virginica\n",
      "149 6.2 3.4 5.4 2.3 Iris-virginica\n",
      "150 5.9 3 5.1 1.8 Iris-virginica\n"
     ]
    }
   ],
   "source": [
    "query = '''\n",
    "SELECT Id,SepalLengthCm,SepalWidthCm,PetalLengthCm,PetalWidthCm,Species FROM iris'''\n",
    "sth = cur.execute(query)\n",
    "daten = np.empty((1,6))\n",
    "results = sth.fetchall()\n",
    "for Id,SepalLengthCm,SepalWidthCm,PetalLengthCm,PetalWidthCm,Species in results:\n",
    "    \n",
    "\tprint(Id,SepalLengthCm,SepalWidthCm,PetalLengthCm,PetalWidthCm,Species)"
   ]
  },
  {
   "cell_type": "code",
   "execution_count": 9,
   "metadata": {},
   "outputs": [
    {
     "name": "stdout",
     "output_type": "stream",
     "text": [
      "[[0. 0. 0. 0.]\n",
      " [0. 0. 0. 0.]\n",
      " [0. 0. 0. 0.]]\n"
     ]
    }
   ],
   "source": [
    "a=np.array(np.zeros((3,4)))\n",
    "print(a)"
   ]
  },
  {
   "cell_type": "code",
   "execution_count": 12,
   "metadata": {},
   "outputs": [
    {
     "name": "stdout",
     "output_type": "stream",
     "text": [
      "[[0.62989065 0.44552823 0.88097647 0.52109423]\n",
      " [0.06554669 0.64764358 0.3868432  0.54651376]\n",
      " [0.82276983 0.65327307 0.98082729 0.82320992]]\n"
     ]
    }
   ],
   "source": [
    "b=np.array(np.random.random((3,4)))\n",
    "print(b\n",
    "     )"
   ]
  },
  {
   "cell_type": "code",
   "execution_count": 13,
   "metadata": {},
   "outputs": [
    {
     "data": {
      "text/plain": [
       "array([[0.62989065, 0.44552823, 0.88097647, 0.52109423],\n",
       "       [0.06554669, 0.64764358, 0.3868432 , 0.54651376],\n",
       "       [0.82276983, 0.65327307, 0.98082729, 0.82320992]])"
      ]
     },
     "execution_count": 13,
     "metadata": {},
     "output_type": "execute_result"
    }
   ],
   "source": [
    "a+b"
   ]
  },
  {
   "cell_type": "code",
   "execution_count": 27,
   "metadata": {},
   "outputs": [
    {
     "name": "stdout",
     "output_type": "stream",
     "text": [
      "[[0.0408325  0.02192072 0.00424964 0.0711197 ]\n",
      " [0.04075774 0.07605782 0.0052777  0.00083977]\n",
      " [0.02621148 0.06822678 0.00342292 0.03129086]]\n"
     ]
    }
   ],
   "source": [
    "a=a*np.random.random((3,4))\n",
    "print(a)"
   ]
  },
  {
   "cell_type": "code",
   "execution_count": 29,
   "metadata": {},
   "outputs": [
    {
     "data": {
      "text/plain": [
       "12"
      ]
     },
     "execution_count": 29,
     "metadata": {},
     "output_type": "execute_result"
    }
   ],
   "source": [
    "a.size"
   ]
  },
  {
   "cell_type": "code",
   "execution_count": 30,
   "metadata": {},
   "outputs": [
    {
     "data": {
      "text/plain": [
       "(3, 4)"
      ]
     },
     "execution_count": 30,
     "metadata": {},
     "output_type": "execute_result"
    }
   ],
   "source": [
    "a.shape"
   ]
  },
  {
   "cell_type": "code",
   "execution_count": 31,
   "metadata": {},
   "outputs": [
    {
     "data": {
      "text/plain": [
       "dtype('float64')"
      ]
     },
     "execution_count": 31,
     "metadata": {},
     "output_type": "execute_result"
    }
   ],
   "source": [
    "a.dtype"
   ]
  },
  {
   "cell_type": "code",
   "execution_count": 32,
   "metadata": {},
   "outputs": [
    {
     "data": {
      "text/plain": [
       "array([0, 1, 2, 3, 4, 5, 6, 7, 8, 9])"
      ]
     },
     "execution_count": 32,
     "metadata": {},
     "output_type": "execute_result"
    }
   ],
   "source": [
    "np.arange(10)"
   ]
  },
  {
   "cell_type": "code",
   "execution_count": 33,
   "metadata": {},
   "outputs": [
    {
     "data": {
      "text/plain": [
       "2"
      ]
     },
     "execution_count": 33,
     "metadata": {},
     "output_type": "execute_result"
    }
   ],
   "source": [
    "a.ndim"
   ]
  },
  {
   "cell_type": "code",
   "execution_count": 35,
   "metadata": {},
   "outputs": [
    {
     "name": "stdout",
     "output_type": "stream",
     "text": [
      "[[ 0  1  2  3]\n",
      " [ 4  5  6  7]\n",
      " [ 8  9 10 11]]\n"
     ]
    }
   ],
   "source": [
    "c=np.array(np.arange(12).reshape((3,4)))\n",
    "print(c)"
   ]
  },
  {
   "cell_type": "code",
   "execution_count": 37,
   "metadata": {},
   "outputs": [
    {
     "data": {
      "text/plain": [
       "array([ 2,  6, 10])"
      ]
     },
     "execution_count": 37,
     "metadata": {},
     "output_type": "execute_result"
    }
   ],
   "source": [
    "c[:,2]"
   ]
  },
  {
   "cell_type": "code",
   "execution_count": 38,
   "metadata": {},
   "outputs": [
    {
     "data": {
      "text/plain": [
       "array([ 8,  9, 10, 11])"
      ]
     },
     "execution_count": 38,
     "metadata": {},
     "output_type": "execute_result"
    }
   ],
   "source": [
    "c[2,:]"
   ]
  },
  {
   "cell_type": "code",
   "execution_count": 46,
   "metadata": {},
   "outputs": [
    {
     "name": "stdout",
     "output_type": "stream",
     "text": [
      "[[ 0  1  2  3]\n",
      " [ 4  5  6  7]\n",
      " [ 8  9 10 11]]\n"
     ]
    }
   ],
   "source": [
    "print(np.random.permutation(c))"
   ]
  },
  {
   "cell_type": "code",
   "execution_count": 47,
   "metadata": {},
   "outputs": [
    {
     "name": "stdout",
     "output_type": "stream",
     "text": [
      "[[ 0  1  2  3]\n",
      " [ 8  9 10 11]\n",
      " [ 4  5  6  7]]\n",
      "[[ 4  5  6  7]\n",
      " [ 0  1  2  3]\n",
      " [ 8  9 10 11]]\n",
      "[[ 4  5  6  7]\n",
      " [ 8  9 10 11]\n",
      " [ 0  1  2  3]]\n",
      "[[ 4  5  6  7]\n",
      " [ 8  9 10 11]\n",
      " [ 0  1  2  3]]\n",
      "[[ 8  9 10 11]\n",
      " [ 0  1  2  3]\n",
      " [ 4  5  6  7]]\n",
      "[[ 8  9 10 11]\n",
      " [ 0  1  2  3]\n",
      " [ 4  5  6  7]]\n",
      "[[ 4  5  6  7]\n",
      " [ 0  1  2  3]\n",
      " [ 8  9 10 11]]\n",
      "[[ 4  5  6  7]\n",
      " [ 0  1  2  3]\n",
      " [ 8  9 10 11]]\n",
      "[[ 0  1  2  3]\n",
      " [ 8  9 10 11]\n",
      " [ 4  5  6  7]]\n"
     ]
    }
   ],
   "source": [
    "for i in range(1,10):\n",
    "    print(np.random.permutation(c))"
   ]
  },
  {
   "cell_type": "code",
   "execution_count": 48,
   "metadata": {},
   "outputs": [
    {
     "name": "stdout",
     "output_type": "stream",
     "text": [
      "[ 2  8  4  7  9  3 10  5  6  0  1 11]\n",
      "[ 1 10  6  7 11  5  2  9  3  8  4  0]\n",
      "[ 8  7  2  3  0  6  5  1 11  9 10  4]\n",
      "[11  8  3  4  1  5  6  0  2 10  9  7]\n",
      "[ 6  9  1 11  3  5  2  0  4 10  7  8]\n",
      "[ 9  3  1  8  0  2  5 11  6 10  7  4]\n",
      "[ 6  5  4  3  8  1  7 11  0  9  2 10]\n",
      "[11  8  7  3 10  1  0  5  9  6  4  2]\n",
      "[ 9  6 10  2  3  4  8 11  5  1  0  7]\n"
     ]
    }
   ],
   "source": [
    "for i in range(1,10):\n",
    "    print(np.random.permutation(np.ravel(c)))"
   ]
  },
  {
   "cell_type": "code",
   "execution_count": null,
   "metadata": {},
   "outputs": [],
   "source": []
  },
  {
   "cell_type": "code",
   "execution_count": 49,
   "metadata": {},
   "outputs": [
    {
     "name": "stdout",
     "output_type": "stream",
     "text": [
      "[[ 7  5  1  9]\n",
      " [11  4  8  2]\n",
      " [ 3  6  0 10]]\n",
      "[[ 5 11  7  6]\n",
      " [ 1  8  4  9]\n",
      " [ 0  2  3 10]]\n",
      "[[11  2  1  0]\n",
      " [ 3  4  6  5]\n",
      " [ 7 10  9  8]]\n",
      "[[ 9  2  6 11]\n",
      " [ 8  1  3  0]\n",
      " [ 4  7 10  5]]\n",
      "[[ 7  0  6  4]\n",
      " [ 3  8  5  2]\n",
      " [11 10  9  1]]\n",
      "[[ 4 11  9  6]\n",
      " [ 8  1  7  2]\n",
      " [ 0  3  5 10]]\n",
      "[[ 0  9  6  4]\n",
      " [10  8 11  7]\n",
      " [ 1  2  5  3]]\n",
      "[[ 4  6  1  9]\n",
      " [ 3 11  0 10]\n",
      " [ 2  8  7  5]]\n",
      "[[11  1  6  7]\n",
      " [ 5  0  4 10]\n",
      " [ 9  3  8  2]]\n"
     ]
    }
   ],
   "source": [
    "for i in range(1,10):\n",
    "    print(np.random.permutation(np.ravel(c)).reshape(3,4))"
   ]
  },
  {
   "cell_type": "code",
   "execution_count": null,
   "metadata": {},
   "outputs": [],
   "source": []
  }
 ],
 "metadata": {
  "kernelspec": {
   "display_name": "Python 3",
   "language": "python",
   "name": "python3"
  },
  "language_info": {
   "codemirror_mode": {
    "name": "ipython",
    "version": 3
   },
   "file_extension": ".py",
   "mimetype": "text/x-python",
   "name": "python",
   "nbconvert_exporter": "python",
   "pygments_lexer": "ipython3",
   "version": "3.7.4"
  }
 },
 "nbformat": 4,
 "nbformat_minor": 4
}
